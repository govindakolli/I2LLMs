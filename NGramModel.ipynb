{
  "nbformat": 4,
  "nbformat_minor": 0,
  "metadata": {
    "colab": {
      "provenance": [],
      "authorship_tag": "ABX9TyOMBPazjZ1h43WVTDzsyypG",
      "include_colab_link": true
    },
    "kernelspec": {
      "name": "python3",
      "display_name": "Python 3"
    },
    "language_info": {
      "name": "python"
    }
  },
  "cells": [
    {
      "cell_type": "markdown",
      "metadata": {
        "id": "view-in-github",
        "colab_type": "text"
      },
      "source": [
        "<a href=\"https://colab.research.google.com/github/govindakolli/I2LLMs/blob/main/NGramModel.ipynb\" target=\"_parent\"><img src=\"https://colab.research.google.com/assets/colab-badge.svg\" alt=\"Open In Colab\"/></a>"
      ]
    },
    {
      "cell_type": "markdown",
      "source": [
        "Write a program to compute unsmoothed unigrams and bigrams."
      ],
      "metadata": {
        "id": "lOfCgpEx9u4r"
      }
    },
    {
      "cell_type": "code",
      "execution_count": null,
      "metadata": {
        "colab": {
          "base_uri": "https://localhost:8080/"
        },
        "id": "rBiZ0RQ12LRs",
        "outputId": "aca85abd-cbb7-45bd-ec74-3c06669366a3"
      },
      "outputs": [
        {
          "output_type": "stream",
          "name": "stderr",
          "text": [
            "[nltk_data] Downloading package punkt to /root/nltk_data...\n",
            "[nltk_data]   Package punkt is already up-to-date!\n",
            "[nltk_data] Downloading package punkt_tab to /root/nltk_data...\n",
            "[nltk_data]   Unzipping tokenizers/punkt_tab.zip.\n"
          ]
        },
        {
          "output_type": "execute_result",
          "data": {
            "text/plain": [
              "True"
            ]
          },
          "metadata": {},
          "execution_count": 10
        }
      ],
      "source": [
        "from collections import Counter\n",
        "import nltk\n",
        "nltk.download(\"punkt\")\n",
        "nltk.download(\"punkt_tab\")"
      ]
    },
    {
      "cell_type": "code",
      "source": [
        "#Preprocess\n",
        "def preprocess_corpus(corpus):\n",
        "  sentences = [sent.split() for sent in corpus] #[nltk.word_tokenize(sentence) for sentence in corpus] # to consider <s>, </s> as a single token\n",
        "  return sentences"
      ],
      "metadata": {
        "id": "UJZYxVif2oqG"
      },
      "execution_count": null,
      "outputs": []
    },
    {
      "cell_type": "code",
      "source": [
        "def unigram_compute(sentences):\n",
        "  unigram_counts = Counter()\n",
        "  total_words = 0\n",
        "\n",
        "  for sentence in sentences:\n",
        "    unigram_counts.update(sentence)\n",
        "    total_words += len(sentence)\n",
        "\n",
        "  unigram_probs = { word : count / total_words for word, count in unigram_counts.items()}\n",
        "  return unigram_counts, unigram_probs"
      ],
      "metadata": {
        "id": "H_u-7vPV3BZB"
      },
      "execution_count": null,
      "outputs": []
    },
    {
      "cell_type": "code",
      "source": [
        "def bigram_compute(sentences):\n",
        "  bigram_counts = Counter()\n",
        "  bigrams_probs = {}\n",
        "\n",
        "  for sentence in sentences:\n",
        "    bigrams = list(nltk.bigrams(sentence))\n",
        "    bigram_counts.update(bigrams)\n",
        "\n",
        "  bigram_totals = Counter()\n",
        "  for (w1, w2), count in bigram_counts.items():\n",
        "      bigram_totals[w1] += count\n",
        "\n",
        "  for(w1, w2), count in bigram_counts.items():\n",
        "      bigrams_probs[(w1,w2)] = count / bigram_totals[w1]\n",
        "\n",
        "  return bigram_counts, bigrams_probs"
      ],
      "metadata": {
        "id": "q2Ws7Iec4ssJ"
      },
      "execution_count": null,
      "outputs": []
    },
    {
      "cell_type": "code",
      "source": [
        "\n",
        "# Example Corpus\n",
        "corpus = [\n",
        "    \"<s> I am Sam </s>\",\n",
        "    \"<s> Sam I am </s>\",\n",
        "    \"<s> I am Sam </s>\",\n",
        "    \"<s> I do not like green eggs and Sam </s>\"\n",
        "]"
      ],
      "metadata": {
        "id": "hQfO3bEf5GJt"
      },
      "execution_count": null,
      "outputs": []
    },
    {
      "cell_type": "code",
      "source": [
        "# Preprocess Corpus\n",
        "sentences = preprocess_corpus(corpus)\n",
        "\n",
        "# Compute Unigram and Bigram Probabilities\n",
        "unigram_counts, unigram_probs = unigram_compute(sentences)\n",
        "bigram_counts, bigram_probs = bigram_compute(sentences)\n",
        "\n",
        "# Output Results\n",
        "print(\"Unigram Counts:\", unigram_counts)\n",
        "print(\"Unigram Probabilities:\", unigram_probs)\n",
        "print(\"Bigram Counts:\", bigram_counts)\n",
        "print(\"Bigram Probabilities:\", bigram_probs)"
      ],
      "metadata": {
        "id": "vfXa0P_P6pmC"
      },
      "execution_count": null,
      "outputs": []
    },
    {
      "cell_type": "code",
      "source": [],
      "metadata": {
        "colab": {
          "base_uri": "https://localhost:8080/"
        },
        "id": "_nH-ugPk68lK",
        "outputId": "bb233c83-5acd-4f75-93c7-038d37a2d4eb"
      },
      "execution_count": null,
      "outputs": [
        {
          "output_type": "stream",
          "name": "stdout",
          "text": [
            "Unigram Counts: Counter({'<s>': 4, 'I': 4, 'Sam': 4, '</s>': 4, 'am': 3, 'do': 1, 'not': 1, 'like': 1, 'green': 1, 'eggs': 1, 'and': 1})\n",
            "Unigram Probabilities: {'<s>': 0.16, 'I': 0.16, 'am': 0.12, 'Sam': 0.16, '</s>': 0.16, 'do': 0.04, 'not': 0.04, 'like': 0.04, 'green': 0.04, 'eggs': 0.04, 'and': 0.04}\n",
            "Bigram Counts: Counter({('<s>', 'I'): 3, ('I', 'am'): 3, ('Sam', '</s>'): 3, ('am', 'Sam'): 2, ('<s>', 'Sam'): 1, ('Sam', 'I'): 1, ('am', '</s>'): 1, ('I', 'do'): 1, ('do', 'not'): 1, ('not', 'like'): 1, ('like', 'green'): 1, ('green', 'eggs'): 1, ('eggs', 'and'): 1, ('and', 'Sam'): 1})\n",
            "Bigram Probabilities: {('<s>', 'I'): 0.75, ('I', 'am'): 0.75, ('am', 'Sam'): 0.6666666666666666, ('Sam', '</s>'): 0.75, ('<s>', 'Sam'): 0.25, ('Sam', 'I'): 0.25, ('am', '</s>'): 0.3333333333333333, ('I', 'do'): 0.25, ('do', 'not'): 1.0, ('not', 'like'): 1.0, ('like', 'green'): 1.0, ('green', 'eggs'): 1.0, ('eggs', 'and'): 1.0, ('and', 'Sam'): 1.0}\n"
          ]
        }
      ]
    },
    {
      "cell_type": "code",
      "source": [
        "corpus_email = [\n",
        "    \"<s> Hi John I hope you are doing well </s>\",\n",
        "    \"<s> Please find the attached report </s>\",\n",
        "    \"<s> Let me know if you have any questions </s>\",\n",
        "    \"<s> Looking forward to your feedback </s>\"\n",
        "]\n",
        "\n",
        "corpus_news = [\n",
        "    \"<s> The government announced a new policy today </s>\",\n",
        "    \"<s> Scientists discovered a new species in the rainforest </s>\",\n",
        "    \"<s> The stock market showed significant growth this week </s>\",\n",
        "    \"<s> Experts predict economic recovery by next year </s>\"\n",
        "]"
      ],
      "metadata": {
        "id": "zoSavuW07ZhZ"
      },
      "execution_count": null,
      "outputs": []
    },
    {
      "cell_type": "code",
      "source": [
        "# Preprocess Corpus\n",
        "sentences = preprocess_corpus(corpus_email)\n",
        "\n",
        "# Compute Unigram and Bigram Probabilities\n",
        "unigram_counts, unigram_probs = unigram_compute(sentences)\n",
        "bigram_counts, bigram_probs = bigram_compute(sentences)\n",
        "\n",
        "# Output Results\n",
        "print(\"Unigram Counts:\", unigram_counts)\n",
        "print(\"Unigram Probabilities:\", unigram_probs)\n",
        "print(\"Bigram Counts:\", bigram_counts)\n",
        "print(\"Bigram Probabilities:\", bigram_probs)"
      ],
      "metadata": {
        "colab": {
          "base_uri": "https://localhost:8080/"
        },
        "id": "SdGC6uwB81E4",
        "outputId": "6e3dbbf4-d165-45a8-e87b-b1b0ced91e03"
      },
      "execution_count": null,
      "outputs": [
        {
          "output_type": "stream",
          "name": "stdout",
          "text": [
            "Unigram Counts: Counter({'<s>': 4, '</s>': 4, 'you': 2, 'Hi': 1, 'John': 1, 'I': 1, 'hope': 1, 'are': 1, 'doing': 1, 'well': 1, 'Please': 1, 'find': 1, 'the': 1, 'attached': 1, 'report': 1, 'Let': 1, 'me': 1, 'know': 1, 'if': 1, 'have': 1, 'any': 1, 'questions': 1, 'Looking': 1, 'forward': 1, 'to': 1, 'your': 1, 'feedback': 1})\n",
            "Unigram Probabilities: {'<s>': 0.11764705882352941, 'Hi': 0.029411764705882353, 'John': 0.029411764705882353, 'I': 0.029411764705882353, 'hope': 0.029411764705882353, 'you': 0.058823529411764705, 'are': 0.029411764705882353, 'doing': 0.029411764705882353, 'well': 0.029411764705882353, '</s>': 0.11764705882352941, 'Please': 0.029411764705882353, 'find': 0.029411764705882353, 'the': 0.029411764705882353, 'attached': 0.029411764705882353, 'report': 0.029411764705882353, 'Let': 0.029411764705882353, 'me': 0.029411764705882353, 'know': 0.029411764705882353, 'if': 0.029411764705882353, 'have': 0.029411764705882353, 'any': 0.029411764705882353, 'questions': 0.029411764705882353, 'Looking': 0.029411764705882353, 'forward': 0.029411764705882353, 'to': 0.029411764705882353, 'your': 0.029411764705882353, 'feedback': 0.029411764705882353}\n",
            "Bigram Counts: Counter({('<s>', 'Hi'): 1, ('Hi', 'John'): 1, ('John', 'I'): 1, ('I', 'hope'): 1, ('hope', 'you'): 1, ('you', 'are'): 1, ('are', 'doing'): 1, ('doing', 'well'): 1, ('well', '</s>'): 1, ('<s>', 'Please'): 1, ('Please', 'find'): 1, ('find', 'the'): 1, ('the', 'attached'): 1, ('attached', 'report'): 1, ('report', '</s>'): 1, ('<s>', 'Let'): 1, ('Let', 'me'): 1, ('me', 'know'): 1, ('know', 'if'): 1, ('if', 'you'): 1, ('you', 'have'): 1, ('have', 'any'): 1, ('any', 'questions'): 1, ('questions', '</s>'): 1, ('<s>', 'Looking'): 1, ('Looking', 'forward'): 1, ('forward', 'to'): 1, ('to', 'your'): 1, ('your', 'feedback'): 1, ('feedback', '</s>'): 1})\n",
            "Bigram Probabilities: {('<s>', 'Hi'): 0.25, ('Hi', 'John'): 1.0, ('John', 'I'): 1.0, ('I', 'hope'): 1.0, ('hope', 'you'): 1.0, ('you', 'are'): 0.5, ('are', 'doing'): 1.0, ('doing', 'well'): 1.0, ('well', '</s>'): 1.0, ('<s>', 'Please'): 0.25, ('Please', 'find'): 1.0, ('find', 'the'): 1.0, ('the', 'attached'): 1.0, ('attached', 'report'): 1.0, ('report', '</s>'): 1.0, ('<s>', 'Let'): 0.25, ('Let', 'me'): 1.0, ('me', 'know'): 1.0, ('know', 'if'): 1.0, ('if', 'you'): 1.0, ('you', 'have'): 0.5, ('have', 'any'): 1.0, ('any', 'questions'): 1.0, ('questions', '</s>'): 1.0, ('<s>', 'Looking'): 0.25, ('Looking', 'forward'): 1.0, ('forward', 'to'): 1.0, ('to', 'your'): 1.0, ('your', 'feedback'): 1.0, ('feedback', '</s>'): 1.0}\n"
          ]
        }
      ]
    },
    {
      "cell_type": "code",
      "source": [
        "# Preprocess Corpus\n",
        "sentences = preprocess_corpus(corpus_news)\n",
        "\n",
        "# Compute Unigram and Bigram Probabilities\n",
        "unigram_counts, unigram_probs = unigram_compute(sentences)\n",
        "bigram_counts, bigram_probs = bigram_compute(sentences)\n",
        "\n",
        "# Output Results\n",
        "print(\"Unigram Counts:\", unigram_counts)\n",
        "print(\"Unigram Probabilities:\", unigram_probs)\n",
        "print(\"Bigram Counts:\", bigram_counts)\n",
        "print(\"Bigram Probabilities:\", bigram_probs)"
      ],
      "metadata": {
        "colab": {
          "base_uri": "https://localhost:8080/"
        },
        "id": "Mn5k8Iud85gI",
        "outputId": "b49b3a01-e551-4ab3-bd53-ea359b1a1fd8"
      },
      "execution_count": null,
      "outputs": [
        {
          "output_type": "stream",
          "name": "stdout",
          "text": [
            "Unigram Counts: Counter({'<s>': 4, '</s>': 4, 'The': 2, 'a': 2, 'new': 2, 'government': 1, 'announced': 1, 'policy': 1, 'today': 1, 'Scientists': 1, 'discovered': 1, 'species': 1, 'in': 1, 'the': 1, 'rainforest': 1, 'stock': 1, 'market': 1, 'showed': 1, 'significant': 1, 'growth': 1, 'this': 1, 'week': 1, 'Experts': 1, 'predict': 1, 'economic': 1, 'recovery': 1, 'by': 1, 'next': 1, 'year': 1})\n",
            "Unigram Probabilities: {'<s>': 0.10526315789473684, 'The': 0.05263157894736842, 'government': 0.02631578947368421, 'announced': 0.02631578947368421, 'a': 0.05263157894736842, 'new': 0.05263157894736842, 'policy': 0.02631578947368421, 'today': 0.02631578947368421, '</s>': 0.10526315789473684, 'Scientists': 0.02631578947368421, 'discovered': 0.02631578947368421, 'species': 0.02631578947368421, 'in': 0.02631578947368421, 'the': 0.02631578947368421, 'rainforest': 0.02631578947368421, 'stock': 0.02631578947368421, 'market': 0.02631578947368421, 'showed': 0.02631578947368421, 'significant': 0.02631578947368421, 'growth': 0.02631578947368421, 'this': 0.02631578947368421, 'week': 0.02631578947368421, 'Experts': 0.02631578947368421, 'predict': 0.02631578947368421, 'economic': 0.02631578947368421, 'recovery': 0.02631578947368421, 'by': 0.02631578947368421, 'next': 0.02631578947368421, 'year': 0.02631578947368421}\n",
            "Bigram Counts: Counter({('<s>', 'The'): 2, ('a', 'new'): 2, ('The', 'government'): 1, ('government', 'announced'): 1, ('announced', 'a'): 1, ('new', 'policy'): 1, ('policy', 'today'): 1, ('today', '</s>'): 1, ('<s>', 'Scientists'): 1, ('Scientists', 'discovered'): 1, ('discovered', 'a'): 1, ('new', 'species'): 1, ('species', 'in'): 1, ('in', 'the'): 1, ('the', 'rainforest'): 1, ('rainforest', '</s>'): 1, ('The', 'stock'): 1, ('stock', 'market'): 1, ('market', 'showed'): 1, ('showed', 'significant'): 1, ('significant', 'growth'): 1, ('growth', 'this'): 1, ('this', 'week'): 1, ('week', '</s>'): 1, ('<s>', 'Experts'): 1, ('Experts', 'predict'): 1, ('predict', 'economic'): 1, ('economic', 'recovery'): 1, ('recovery', 'by'): 1, ('by', 'next'): 1, ('next', 'year'): 1, ('year', '</s>'): 1})\n",
            "Bigram Probabilities: {('<s>', 'The'): 0.5, ('The', 'government'): 0.5, ('government', 'announced'): 1.0, ('announced', 'a'): 1.0, ('a', 'new'): 1.0, ('new', 'policy'): 0.5, ('policy', 'today'): 1.0, ('today', '</s>'): 1.0, ('<s>', 'Scientists'): 0.25, ('Scientists', 'discovered'): 1.0, ('discovered', 'a'): 1.0, ('new', 'species'): 0.5, ('species', 'in'): 1.0, ('in', 'the'): 1.0, ('the', 'rainforest'): 1.0, ('rainforest', '</s>'): 1.0, ('The', 'stock'): 0.5, ('stock', 'market'): 1.0, ('market', 'showed'): 1.0, ('showed', 'significant'): 1.0, ('significant', 'growth'): 1.0, ('growth', 'this'): 1.0, ('this', 'week'): 1.0, ('week', '</s>'): 1.0, ('<s>', 'Experts'): 0.25, ('Experts', 'predict'): 1.0, ('predict', 'economic'): 1.0, ('economic', 'recovery'): 1.0, ('recovery', 'by'): 1.0, ('by', 'next'): 1.0, ('next', 'year'): 1.0, ('year', '</s>'): 1.0}\n"
          ]
        }
      ]
    },
    {
      "cell_type": "code",
      "source": [],
      "metadata": {
        "id": "eu09-uwN943E"
      },
      "execution_count": null,
      "outputs": []
    },
    {
      "cell_type": "markdown",
      "source": [
        "Add an option to your program to generate random sentences.\n"
      ],
      "metadata": {
        "id": "y5cqyZrz9262"
      }
    },
    {
      "cell_type": "code",
      "source": [
        "import random"
      ],
      "metadata": {
        "id": "Au9auMeP-YsZ"
      },
      "execution_count": null,
      "outputs": []
    },
    {
      "cell_type": "code",
      "source": [
        "\n",
        "def generate_sentence(bigram_probs, start_word=\"<s>\", max_length=10):\n",
        "    sentence = [start_word]\n",
        "\n",
        "    while len(sentence) < max_length:\n",
        "        last_word = sentence[-1]\n",
        "        candidates = [(w2, prob) for (w1, w2), prob in bigram_probs.items() if w1 == last_word]\n",
        "\n",
        "        if not candidates:\n",
        "            break  # Stop if no candidates found\n",
        "\n",
        "        words, probs = zip(*candidates)\n",
        "        next_word = random.choices(words, weights=probs)[0]\n",
        "\n",
        "        if next_word == \"</s>\":\n",
        "            break\n",
        "\n",
        "        sentence.append(next_word)\n",
        "\n",
        "    return \" \".join(sentence[1:])\n"
      ],
      "metadata": {
        "id": "_ZsaQ2ra9CN4"
      },
      "execution_count": null,
      "outputs": []
    },
    {
      "cell_type": "code",
      "source": [
        "# Preprocess Corpus\n",
        "sentences = preprocess_corpus(corpus)\n",
        "\n",
        "# Compute Unigram and Bigram Probabilities\n",
        "unigram_counts, unigram_probs = unigram_compute(sentences)\n",
        "bigram_counts, bigram_probs = bigram_compute(sentences)\n",
        "\n",
        "# Output Results\n",
        "print(\"Unigram Counts:\", unigram_counts)\n",
        "print(\"Unigram Probabilities:\", unigram_probs)\n",
        "print(\"Bigram Counts:\", bigram_counts)\n",
        "print(\"Bigram Probabilities:\", bigram_probs)\n",
        "\n"
      ],
      "metadata": {
        "colab": {
          "base_uri": "https://localhost:8080/"
        },
        "id": "Nz_IpLCg9lyi",
        "outputId": "0a350dd8-26f0-4873-d79b-f08935f5c3b4"
      },
      "execution_count": null,
      "outputs": [
        {
          "output_type": "stream",
          "name": "stdout",
          "text": [
            "Unigram Counts: Counter({'<s>': 4, 'I': 4, 'Sam': 4, '</s>': 4, 'am': 3, 'do': 1, 'not': 1, 'like': 1, 'green': 1, 'eggs': 1, 'and': 1})\n",
            "Unigram Probabilities: {'<s>': 0.16, 'I': 0.16, 'am': 0.12, 'Sam': 0.16, '</s>': 0.16, 'do': 0.04, 'not': 0.04, 'like': 0.04, 'green': 0.04, 'eggs': 0.04, 'and': 0.04}\n",
            "Bigram Counts: Counter({('<s>', 'I'): 3, ('I', 'am'): 3, ('Sam', '</s>'): 3, ('am', 'Sam'): 2, ('<s>', 'Sam'): 1, ('Sam', 'I'): 1, ('am', '</s>'): 1, ('I', 'do'): 1, ('do', 'not'): 1, ('not', 'like'): 1, ('like', 'green'): 1, ('green', 'eggs'): 1, ('eggs', 'and'): 1, ('and', 'Sam'): 1})\n",
            "Bigram Probabilities: {('<s>', 'I'): 0.75, ('I', 'am'): 0.75, ('am', 'Sam'): 0.6666666666666666, ('Sam', '</s>'): 0.75, ('<s>', 'Sam'): 0.25, ('Sam', 'I'): 0.25, ('am', '</s>'): 0.3333333333333333, ('I', 'do'): 0.25, ('do', 'not'): 1.0, ('not', 'like'): 1.0, ('like', 'green'): 1.0, ('green', 'eggs'): 1.0, ('eggs', 'and'): 1.0, ('and', 'Sam'): 1.0}\n"
          ]
        }
      ]
    },
    {
      "cell_type": "code",
      "source": [
        "# Generate a random sentence\n",
        "print(\"Random Sentence:\", generate_sentence(bigram_probs))"
      ],
      "metadata": {
        "colab": {
          "base_uri": "https://localhost:8080/"
        },
        "id": "xdu0ToHk-Obd",
        "outputId": "82371244-6880-4fcd-a5d4-d4725b0d4ba9"
      },
      "execution_count": null,
      "outputs": [
        {
          "output_type": "stream",
          "name": "stdout",
          "text": [
            "Random Sentence: I do not like green eggs and Sam\n"
          ]
        }
      ]
    },
    {
      "cell_type": "code",
      "source": [],
      "metadata": {
        "id": "Hs1VcZxR-z4U"
      },
      "execution_count": null,
      "outputs": []
    },
    {
      "cell_type": "markdown",
      "source": [
        " Add an option to your program to compute the perplexity of a test set."
      ],
      "metadata": {
        "id": "OsdDlc82-2hS"
      }
    },
    {
      "cell_type": "code",
      "source": [
        "import math"
      ],
      "metadata": {
        "id": "WqdHrAPr_Dkw"
      },
      "execution_count": null,
      "outputs": []
    },
    {
      "cell_type": "code",
      "source": [
        "def compute_perplexity(test_sentences, bigram_probs):\n",
        "    log_prob_sum = 0\n",
        "    total_bigrams = 0\n",
        "\n",
        "    for sentence in test_sentences:\n",
        "        bigrams = list(nltk.bigrams(sentence))\n",
        "        for w1, w2 in bigrams:\n",
        "            prob = bigram_probs.get((w1, w2), 1e-6)  # Small value to avoid log(0)\n",
        "            log_prob_sum += math.log(prob)\n",
        "            total_bigrams += 1\n",
        "\n",
        "    perplexity = math.exp(-log_prob_sum / total_bigrams) if total_bigrams > 0 else float('inf')\n",
        "    return perplexity\n"
      ],
      "metadata": {
        "id": "udMuib9w-khq"
      },
      "execution_count": null,
      "outputs": []
    },
    {
      "cell_type": "code",
      "source": [
        "# Example Test Set\n",
        "test_corpus = [\"<s> I am Sam </s>\", \"<s> Sam I do </s>\"]\n",
        "test_sentences = preprocess_corpus(test_corpus)\n",
        "\n",
        "# Compute Perplexity\n",
        "print(\"Perplexity of test set:\", compute_perplexity(test_sentences, bigram_probs))\n"
      ],
      "metadata": {
        "colab": {
          "base_uri": "https://localhost:8080/"
        },
        "id": "SfogI1jQ_F4v",
        "outputId": "4c6bb1c0-60d7-4a56-f3ae-a190f8ed395f"
      },
      "execution_count": null,
      "outputs": [
        {
          "output_type": "stream",
          "name": "stdout",
          "text": [
            "Perplexity of test set: 11.082453821661106\n"
          ]
        }
      ]
    },
    {
      "cell_type": "code",
      "source": [],
      "metadata": {
        "id": "8nj6416a_MUu"
      },
      "execution_count": null,
      "outputs": []
    },
    {
      "cell_type": "markdown",
      "source": [
        "###References\n",
        "1. Speech and Language Processing. Daniel Jurafsky & James H. Martin.\n",
        "https://web.stanford.edu/~jurafsky/slp3/3.pdf\n",
        "\n",
        "2. Medium Blogs\n",
        "\n",
        "3. ChatGPT ( Aware that it making Mistakes )"
      ],
      "metadata": {
        "id": "et3PVy5jNH__"
      }
    },
    {
      "cell_type": "code",
      "source": [],
      "metadata": {
        "id": "TYqnttPKOC5m"
      },
      "execution_count": null,
      "outputs": []
    }
  ]
}