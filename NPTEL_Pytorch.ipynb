{
  "nbformat": 4,
  "nbformat_minor": 0,
  "metadata": {
    "colab": {
      "provenance": [],
      "include_colab_link": true
    },
    "kernelspec": {
      "name": "python3",
      "display_name": "Python 3"
    },
    "language_info": {
      "name": "python"
    }
  },
  "cells": [
    {
      "cell_type": "markdown",
      "metadata": {
        "id": "view-in-github",
        "colab_type": "text"
      },
      "source": [
        "<a href=\"https://colab.research.google.com/github/govindakolli/I2LLMs/blob/main/NPTEL_Pytorch.ipynb\" target=\"_parent\"><img src=\"https://colab.research.google.com/assets/colab-badge.svg\" alt=\"Open In Colab\"/></a>"
      ]
    },
    {
      "cell_type": "code",
      "execution_count": 1,
      "metadata": {
        "id": "VxAkWxF0660S"
      },
      "outputs": [],
      "source": [
        "import torch"
      ]
    },
    {
      "cell_type": "code",
      "source": [
        "torch.__version__"
      ],
      "metadata": {
        "colab": {
          "base_uri": "https://localhost:8080/",
          "height": 35
        },
        "id": "pbF_hXBd7BTZ",
        "outputId": "85d8b454-da11-43b9-c19c-e836ec1a64fb"
      },
      "execution_count": 2,
      "outputs": [
        {
          "output_type": "execute_result",
          "data": {
            "text/plain": [
              "'2.6.0+cu124'"
            ],
            "application/vnd.google.colaboratory.intrinsic+json": {
              "type": "string"
            }
          },
          "metadata": {},
          "execution_count": 2
        }
      ]
    },
    {
      "cell_type": "markdown",
      "source": [
        "## Tensors"
      ],
      "metadata": {
        "id": "Nb41bbYm7Iv3"
      }
    },
    {
      "cell_type": "markdown",
      "source": [
        "## Creating Tensors"
      ],
      "metadata": {
        "id": "48N5_r5e7M5g"
      }
    },
    {
      "cell_type": "code",
      "source": [
        "# scalar - tensor with zero dimension\n",
        "tensor0 = torch.tensor(1)\n",
        "tensor0 #print(tensor0)"
      ],
      "metadata": {
        "colab": {
          "base_uri": "https://localhost:8080/"
        },
        "id": "YkXduOVo7LvB",
        "outputId": "30dcf373-b4b6-4e02-fa5a-532be4cb4d7f"
      },
      "execution_count": 6,
      "outputs": [
        {
          "output_type": "execute_result",
          "data": {
            "text/plain": [
              "tensor(1)"
            ]
          },
          "metadata": {},
          "execution_count": 6
        }
      ]
    },
    {
      "cell_type": "code",
      "source": [
        "tensor0.ndim"
      ],
      "metadata": {
        "colab": {
          "base_uri": "https://localhost:8080/"
        },
        "id": "r2oc3jow_LUA",
        "outputId": "f70435e5-d49b-4e08-cd46-6aa5c98533af"
      },
      "execution_count": 4,
      "outputs": [
        {
          "output_type": "execute_result",
          "data": {
            "text/plain": [
              "0"
            ]
          },
          "metadata": {},
          "execution_count": 4
        }
      ]
    },
    {
      "cell_type": "code",
      "source": [
        "# vector - tensor with one dimension\n",
        "tensor1 = torch.tensor([6,8,0,1,2])"
      ],
      "metadata": {
        "id": "0ILy0PjO8cd2"
      },
      "execution_count": 7,
      "outputs": []
    },
    {
      "cell_type": "code",
      "source": [
        "# matrix - tensor with two dimensions\n",
        "tensor2 = torch.tensor([[0, 1, 7],[4, 2, 4]])"
      ],
      "metadata": {
        "id": "ly0e5WnY9KTq"
      },
      "execution_count": 8,
      "outputs": []
    },
    {
      "cell_type": "code",
      "source": [
        "# Dimension and shape of a tensor\n",
        "print(f'vector:\\n{tensor1}\\tNo. of dimensions: {tensor1.ndim}\\tShape: {tensor1.shape}\\n')\n",
        "print(f'matirx:\\n{tensor2}\\tNo. of dimensions: {tensor2.dim()}\\tShape: {tensor2.size()}\\n')\n",
        "\n",
        "#here shape is attribute and size() is method and used interchangeably"
      ],
      "metadata": {
        "colab": {
          "base_uri": "https://localhost:8080/"
        },
        "id": "fXl02Ra793nJ",
        "outputId": "45e94cd6-b740-4c44-d1d5-09364967c3fc"
      },
      "execution_count": 9,
      "outputs": [
        {
          "output_type": "stream",
          "name": "stdout",
          "text": [
            "vector:\n",
            "tensor([6, 8, 0, 1, 2])\tNo. of dimensions: 1\tShape: torch.Size([5])\n",
            "\n",
            "matirx:\n",
            "tensor([[0, 1, 7],\n",
            "        [4, 2, 4]])\tNo. of dimensions: 2\tShape: torch.Size([2, 3])\n",
            "\n"
          ]
        }
      ]
    },
    {
      "cell_type": "code",
      "source": [
        "# Alternate ways\n",
        "size = (3,4)\n",
        "\n",
        "tensor4 = torch.empty(size)\n",
        "tensor4"
      ],
      "metadata": {
        "colab": {
          "base_uri": "https://localhost:8080/"
        },
        "id": "a7_CMUmBBAO9",
        "outputId": "880054dc-8461-4f44-c046-b67ca065e2ab"
      },
      "execution_count": 10,
      "outputs": [
        {
          "output_type": "execute_result",
          "data": {
            "text/plain": [
              "tensor([[2.6302e+20, 6.1949e-04, 6.4805e-10, 6.3013e-10],\n",
              "        [2.6074e-09, 7.0262e-04, 1.0839e-08, 6.6750e-07],\n",
              "        [2.6951e-09, 1.4580e-19, 4.5450e+30, 1.8524e+28]])"
            ]
          },
          "metadata": {},
          "execution_count": 10
        }
      ]
    },
    {
      "cell_type": "code",
      "source": [
        "tensor5 = torch.rand(size)\n",
        "tensor5"
      ],
      "metadata": {
        "colab": {
          "base_uri": "https://localhost:8080/"
        },
        "id": "snZPF0d9OZ6z",
        "outputId": "161fd1ae-d338-4160-e152-60ca52c9f0b4"
      },
      "execution_count": 11,
      "outputs": [
        {
          "output_type": "execute_result",
          "data": {
            "text/plain": [
              "tensor([[0.8265, 0.2181, 0.0658, 0.9659],\n",
              "        [0.9446, 0.4529, 0.8501, 0.1512],\n",
              "        [0.4878, 0.2575, 0.5111, 0.1743]])"
            ]
          },
          "metadata": {},
          "execution_count": 11
        }
      ]
    },
    {
      "cell_type": "code",
      "source": [
        "tensor6 = torch.zeros(size)\n",
        "tensor6"
      ],
      "metadata": {
        "colab": {
          "base_uri": "https://localhost:8080/"
        },
        "id": "jjOUp7UXObmF",
        "outputId": "161638b3-ac22-4d74-94ef-f75f4a0f7255"
      },
      "execution_count": 12,
      "outputs": [
        {
          "output_type": "execute_result",
          "data": {
            "text/plain": [
              "tensor([[0., 0., 0., 0.],\n",
              "        [0., 0., 0., 0.],\n",
              "        [0., 0., 0., 0.]])"
            ]
          },
          "metadata": {},
          "execution_count": 12
        }
      ]
    },
    {
      "cell_type": "code",
      "source": [
        "tensor7 = torch.ones(size)\n",
        "tensor7"
      ],
      "metadata": {
        "colab": {
          "base_uri": "https://localhost:8080/"
        },
        "id": "5IO1tRGSOdPx",
        "outputId": "58e19cba-5068-4bc6-d44c-7cb5f1e7107b"
      },
      "execution_count": 13,
      "outputs": [
        {
          "output_type": "execute_result",
          "data": {
            "text/plain": [
              "tensor([[1., 1., 1., 1.],\n",
              "        [1., 1., 1., 1.],\n",
              "        [1., 1., 1., 1.]])"
            ]
          },
          "metadata": {},
          "execution_count": 13
        }
      ]
    },
    {
      "cell_type": "code",
      "source": [
        "# Check the datatype of a tensor\n",
        "tensor4 = torch.rand(1,2)\n",
        "print(tensor4)\n",
        "tensor4.dtype"
      ],
      "metadata": {
        "colab": {
          "base_uri": "https://localhost:8080/"
        },
        "id": "rtpZ4M45BeUZ",
        "outputId": "5437de62-1b20-49fc-b499-cf1b9ec225db"
      },
      "execution_count": 14,
      "outputs": [
        {
          "output_type": "stream",
          "name": "stdout",
          "text": [
            "tensor([[0.0996, 0.7629]])\n"
          ]
        },
        {
          "output_type": "execute_result",
          "data": {
            "text/plain": [
              "torch.float32"
            ]
          },
          "metadata": {},
          "execution_count": 14
        }
      ]
    },
    {
      "cell_type": "code",
      "source": [
        "# Create a tensor with a specific datatype\n",
        "tensor5 = torch.rand(1, 2, dtype=torch.float16)\n",
        "print(tensor5)"
      ],
      "metadata": {
        "colab": {
          "base_uri": "https://localhost:8080/"
        },
        "id": "kdsZnnZtDqj5",
        "outputId": "3886df74-51ab-4d72-d1ad-172db93b230f"
      },
      "execution_count": 15,
      "outputs": [
        {
          "output_type": "stream",
          "name": "stdout",
          "text": [
            "tensor([[0.5713, 0.4722]], dtype=torch.float16)\n"
          ]
        }
      ]
    },
    {
      "cell_type": "code",
      "source": [
        "# Changing the datatype of a tensor\n",
        "tensor4.type(torch.double)"
      ],
      "metadata": {
        "colab": {
          "base_uri": "https://localhost:8080/"
        },
        "id": "N1e_h_BMFrWx",
        "outputId": "05680030-9339-4156-93e5-54e073a685ce"
      },
      "execution_count": 16,
      "outputs": [
        {
          "output_type": "execute_result",
          "data": {
            "text/plain": [
              "tensor([[0.0996, 0.7629]], dtype=torch.float64)"
            ]
          },
          "metadata": {},
          "execution_count": 16
        }
      ]
    },
    {
      "cell_type": "code",
      "source": [
        "## Creating tensors from a numpy array\n",
        "import numpy as np\n",
        "\n",
        "example_array = np.array([[9,3],[0,4]])\n",
        "tensor8 = torch.from_numpy(example_array)\n",
        "\n",
        "tensor9 = torch.tensor(example_array)\n",
        "print(example_array)\n",
        "print(tensor8)\n",
        "print(tensor9)"
      ],
      "metadata": {
        "colab": {
          "base_uri": "https://localhost:8080/"
        },
        "id": "Yg0VpoWHPKLz",
        "outputId": "99b322ce-5ec0-4386-e3e8-4f23d60bbada"
      },
      "execution_count": 17,
      "outputs": [
        {
          "output_type": "stream",
          "name": "stdout",
          "text": [
            "[[9 3]\n",
            " [0 4]]\n",
            "tensor([[9, 3],\n",
            "        [0, 4]])\n",
            "tensor([[9, 3],\n",
            "        [0, 4]])\n"
          ]
        }
      ]
    },
    {
      "cell_type": "code",
      "source": [
        "example_array *= 3\n",
        "print(example_array)\n",
        "print(tensor8)\n",
        "print(tensor9)"
      ],
      "metadata": {
        "colab": {
          "base_uri": "https://localhost:8080/"
        },
        "id": "EmMVVt3dPkYW",
        "outputId": "eb3b97ce-b28a-44fa-ba5d-98408c3ce940"
      },
      "execution_count": 18,
      "outputs": [
        {
          "output_type": "stream",
          "name": "stdout",
          "text": [
            "[[27  9]\n",
            " [ 0 12]]\n",
            "tensor([[27,  9],\n",
            "        [ 0, 12]])\n",
            "tensor([[9, 3],\n",
            "        [0, 4]])\n"
          ]
        }
      ]
    },
    {
      "cell_type": "code",
      "source": [
        "## Creating a tensor from another tensor\n",
        "tensor10 = torch.ones_like(tensor8)\n",
        "tensor10"
      ],
      "metadata": {
        "colab": {
          "base_uri": "https://localhost:8080/"
        },
        "id": "288BxfcMP2U_",
        "outputId": "89d502e3-17a8-430b-f075-eccfe8117fbd"
      },
      "execution_count": 19,
      "outputs": [
        {
          "output_type": "execute_result",
          "data": {
            "text/plain": [
              "tensor([[1, 1],\n",
              "        [1, 1]])"
            ]
          },
          "metadata": {},
          "execution_count": 19
        }
      ]
    },
    {
      "cell_type": "code",
      "source": [
        "# Device configuration\n",
        "device = torch.device('cuda' if torch.cuda.is_available() else 'cpu')\n",
        "\n",
        "tensor11 = torch.ones(3,7).to(device) # \"cpu\",\"cuda\"\n",
        "\n",
        "tensor11 = torch.zeros(3,7, device=device)"
      ],
      "metadata": {
        "id": "iH6Sa2jlUZ8Y"
      },
      "execution_count": 20,
      "outputs": []
    },
    {
      "cell_type": "markdown",
      "source": [
        "## Accessing elements in a tensor"
      ],
      "metadata": {
        "id": "r352kbJHcskd"
      }
    },
    {
      "cell_type": "code",
      "source": [
        "tensor2"
      ],
      "metadata": {
        "colab": {
          "base_uri": "https://localhost:8080/"
        },
        "id": "xEAspSKTdp37",
        "outputId": "2b6af175-6620-45a7-e506-d2335531abbd"
      },
      "execution_count": 21,
      "outputs": [
        {
          "output_type": "execute_result",
          "data": {
            "text/plain": [
              "tensor([[0, 1, 7],\n",
              "        [4, 2, 4]])"
            ]
          },
          "metadata": {},
          "execution_count": 21
        }
      ]
    },
    {
      "cell_type": "code",
      "source": [
        "tensor2.dim()"
      ],
      "metadata": {
        "colab": {
          "base_uri": "https://localhost:8080/"
        },
        "id": "nzuzLupwcTTU",
        "outputId": "7d3195e6-2cfc-4188-9036-179a9565178f"
      },
      "execution_count": 22,
      "outputs": [
        {
          "output_type": "execute_result",
          "data": {
            "text/plain": [
              "2"
            ]
          },
          "metadata": {},
          "execution_count": 22
        }
      ]
    },
    {
      "cell_type": "code",
      "source": [
        "tensor2.size()"
      ],
      "metadata": {
        "colab": {
          "base_uri": "https://localhost:8080/"
        },
        "id": "5DItsJnJcYxP",
        "outputId": "60b66e22-d8fc-4bef-9fb6-2712535a590b"
      },
      "execution_count": 23,
      "outputs": [
        {
          "output_type": "execute_result",
          "data": {
            "text/plain": [
              "torch.Size([2, 3])"
            ]
          },
          "metadata": {},
          "execution_count": 23
        }
      ]
    },
    {
      "cell_type": "code",
      "source": [
        "tensor2[0]"
      ],
      "metadata": {
        "colab": {
          "base_uri": "https://localhost:8080/"
        },
        "id": "AQOlC86qdxPw",
        "outputId": "1868fccb-7eaa-4592-92b3-f6d719927623"
      },
      "execution_count": 24,
      "outputs": [
        {
          "output_type": "execute_result",
          "data": {
            "text/plain": [
              "tensor([0, 1, 7])"
            ]
          },
          "metadata": {},
          "execution_count": 24
        }
      ]
    },
    {
      "cell_type": "code",
      "source": [
        "tensor2[1,0]"
      ],
      "metadata": {
        "colab": {
          "base_uri": "https://localhost:8080/"
        },
        "id": "42nNMNoRd_fw",
        "outputId": "be899fbd-8f72-44db-8409-2cb977ddf825"
      },
      "execution_count": 25,
      "outputs": [
        {
          "output_type": "execute_result",
          "data": {
            "text/plain": [
              "tensor(4)"
            ]
          },
          "metadata": {},
          "execution_count": 25
        }
      ]
    },
    {
      "cell_type": "code",
      "source": [
        "# Slicing\n",
        "tensor2[:, 2] # this will give us all the rows and only column 2"
      ],
      "metadata": {
        "colab": {
          "base_uri": "https://localhost:8080/"
        },
        "id": "mdXfEoFsQ8op",
        "outputId": "2d05bb37-f36f-4d22-8abb-478855bf9d21"
      },
      "execution_count": 26,
      "outputs": [
        {
          "output_type": "execute_result",
          "data": {
            "text/plain": [
              "tensor([7, 4])"
            ]
          },
          "metadata": {},
          "execution_count": 26
        }
      ]
    },
    {
      "cell_type": "code",
      "source": [
        "tensor2[0, :] # this will give us only row 0 along with all columns"
      ],
      "metadata": {
        "colab": {
          "base_uri": "https://localhost:8080/"
        },
        "id": "tR15WnphRV2r",
        "outputId": "e0801139-368c-4e6e-fb05-d3dd7e77ece5"
      },
      "execution_count": 27,
      "outputs": [
        {
          "output_type": "execute_result",
          "data": {
            "text/plain": [
              "tensor([0, 1, 7])"
            ]
          },
          "metadata": {},
          "execution_count": 27
        }
      ]
    },
    {
      "cell_type": "markdown",
      "source": [
        "## Basic Tensor Operations"
      ],
      "metadata": {
        "id": "izXBZNMqdq3L"
      }
    },
    {
      "cell_type": "code",
      "source": [
        "tensor12 = torch.ones(2, 3)\n",
        "tensor13 = torch.rand(2, 3)\n",
        "\n",
        "print(tensor12)\n",
        "print(tensor13)"
      ],
      "metadata": {
        "colab": {
          "base_uri": "https://localhost:8080/"
        },
        "id": "r4dPeipgLeCZ",
        "outputId": "a13f60c3-5c96-486f-b11e-b253fe978900"
      },
      "execution_count": 28,
      "outputs": [
        {
          "output_type": "stream",
          "name": "stdout",
          "text": [
            "tensor([[1., 1., 1.],\n",
            "        [1., 1., 1.]])\n",
            "tensor([[0.7501, 0.4064, 0.6266],\n",
            "        [0.6808, 0.6043, 0.2228]])\n"
          ]
        }
      ]
    },
    {
      "cell_type": "code",
      "source": [
        "# elementwise addition\n",
        "tensor14 = tensor12 + tensor13\n",
        "# torch.add(tensor12,tensor13)\n",
        "print(tensor14)\n",
        "\n",
        "# elementwise subtraction\n",
        "tensor15 = tensor12 - tensor13\n",
        "# torch.sub(tensor12, tensor13)\n",
        "print(tensor15)\n",
        "\n",
        "# elementwise multiplication\n",
        "tensor16 = tensor12 * tensor13\n",
        "# torch.mul(tensor12,tensor13)\n",
        "print(tensor16)\n",
        "\n",
        "# elementwise division\n",
        "tensor17 = tensor12 / tensor12\n",
        "# torch.div(tensor12,tensor12)\n",
        "print(tensor17)"
      ],
      "metadata": {
        "id": "FTxgiFECWHhm",
        "colab": {
          "base_uri": "https://localhost:8080/"
        },
        "outputId": "2a7c17f2-0417-461c-f672-24caeaecd8a4"
      },
      "execution_count": 29,
      "outputs": [
        {
          "output_type": "stream",
          "name": "stdout",
          "text": [
            "tensor([[1.7501, 1.4064, 1.6266],\n",
            "        [1.6808, 1.6043, 1.2228]])\n",
            "tensor([[0.2499, 0.5936, 0.3734],\n",
            "        [0.3192, 0.3957, 0.7772]])\n",
            "tensor([[0.7501, 0.4064, 0.6266],\n",
            "        [0.6808, 0.6043, 0.2228]])\n",
            "tensor([[1., 1., 1.],\n",
            "        [1., 1., 1.]])\n"
          ]
        }
      ]
    },
    {
      "cell_type": "markdown",
      "source": [
        "## Manipulating a tensor"
      ],
      "metadata": {
        "id": "5442TYFVdxK0"
      }
    },
    {
      "cell_type": "code",
      "source": [
        "x = torch.randint(0,3,(4,5))\n",
        "x"
      ],
      "metadata": {
        "id": "NKA3bb_ZWvyZ",
        "colab": {
          "base_uri": "https://localhost:8080/"
        },
        "outputId": "e7b65e20-5dc1-475e-bb9a-4fc6a5230202"
      },
      "execution_count": 30,
      "outputs": [
        {
          "output_type": "execute_result",
          "data": {
            "text/plain": [
              "tensor([[0, 1, 2, 1, 1],\n",
              "        [0, 1, 0, 2, 2],\n",
              "        [1, 1, 2, 0, 2],\n",
              "        [0, 0, 1, 1, 0]])"
            ]
          },
          "metadata": {},
          "execution_count": 30
        }
      ]
    },
    {
      "cell_type": "code",
      "source": [
        "y = x.view(20)\n",
        "z = x.view(-1, 10) # pytorch -1 infers ( assigns automatically calc )"
      ],
      "metadata": {
        "id": "uq-_CbV58yeB"
      },
      "execution_count": 33,
      "outputs": []
    },
    {
      "cell_type": "code",
      "source": [
        "print(x.size(), y.size(), z.size())"
      ],
      "metadata": {
        "colab": {
          "base_uri": "https://localhost:8080/"
        },
        "id": "lR7DoNwK8vXh",
        "outputId": "5cc88c0b-c33a-4bb2-aacf-64f1440fa329"
      },
      "execution_count": 34,
      "outputs": [
        {
          "output_type": "stream",
          "name": "stdout",
          "text": [
            "torch.Size([4, 5]) torch.Size([20]) torch.Size([2, 10])\n"
          ]
        }
      ]
    },
    {
      "cell_type": "code",
      "source": [
        "a = torch.arange(9)\n",
        "a = a.reshape(3,3)\n",
        "a"
      ],
      "metadata": {
        "id": "cDN7HIskOs9c",
        "colab": {
          "base_uri": "https://localhost:8080/"
        },
        "outputId": "93be8e38-8631-4e51-991a-0da29efe27de"
      },
      "execution_count": 35,
      "outputs": [
        {
          "output_type": "execute_result",
          "data": {
            "text/plain": [
              "tensor([[0, 1, 2],\n",
              "        [3, 4, 5],\n",
              "        [6, 7, 8]])"
            ]
          },
          "metadata": {},
          "execution_count": 35
        }
      ]
    },
    {
      "cell_type": "code",
      "source": [
        "b = torch.randint(0,9,(3,3)) ## torch.randint(low=0, high, size)\n",
        "b"
      ],
      "metadata": {
        "id": "CDKvcs7mOSaw",
        "colab": {
          "base_uri": "https://localhost:8080/"
        },
        "outputId": "2ae2b656-3b6e-480f-9e7a-635b6e86f13f"
      },
      "execution_count": 36,
      "outputs": [
        {
          "output_type": "execute_result",
          "data": {
            "text/plain": [
              "tensor([[3, 6, 2],\n",
              "        [6, 3, 6],\n",
              "        [0, 8, 0]])"
            ]
          },
          "metadata": {},
          "execution_count": 36
        }
      ]
    },
    {
      "cell_type": "code",
      "source": [
        "c = torch.cat((a,b),dim=1)\n",
        "c"
      ],
      "metadata": {
        "id": "0TrzajuPPXz0",
        "colab": {
          "base_uri": "https://localhost:8080/"
        },
        "outputId": "08de8627-ef4f-49a8-bd7a-695f4f718b3d"
      },
      "execution_count": 37,
      "outputs": [
        {
          "output_type": "execute_result",
          "data": {
            "text/plain": [
              "tensor([[0, 1, 2, 3, 6, 2],\n",
              "        [3, 4, 5, 6, 3, 6],\n",
              "        [6, 7, 8, 0, 8, 0]])"
            ]
          },
          "metadata": {},
          "execution_count": 37
        }
      ]
    },
    {
      "cell_type": "code",
      "source": [
        "d = torch.cat((a,b),dim=0)\n",
        "d"
      ],
      "metadata": {
        "id": "GreZ98T_VI3o",
        "colab": {
          "base_uri": "https://localhost:8080/"
        },
        "outputId": "3ec6764c-c4db-404a-d279-ab5e7388fb3b"
      },
      "execution_count": null,
      "outputs": [
        {
          "output_type": "execute_result",
          "data": {
            "text/plain": [
              "tensor([[0, 1, 2],\n",
              "        [3, 4, 5],\n",
              "        [6, 7, 8],\n",
              "        [3, 1, 3],\n",
              "        [5, 3, 7],\n",
              "        [1, 8, 1]])"
            ]
          },
          "metadata": {},
          "execution_count": 33
        }
      ]
    },
    {
      "cell_type": "code",
      "source": [
        "a"
      ],
      "metadata": {
        "colab": {
          "base_uri": "https://localhost:8080/"
        },
        "id": "vCTJOZJ5PvX0",
        "outputId": "849089b9-a93a-4336-8d32-5c51235c7ea6"
      },
      "execution_count": 38,
      "outputs": [
        {
          "output_type": "execute_result",
          "data": {
            "text/plain": [
              "tensor([[0, 1, 2],\n",
              "        [3, 4, 5],\n",
              "        [6, 7, 8]])"
            ]
          },
          "metadata": {},
          "execution_count": 38
        }
      ]
    },
    {
      "cell_type": "code",
      "source": [
        "p = torch.randint(0,9,(2,3,5))\n",
        "p"
      ],
      "metadata": {
        "colab": {
          "base_uri": "https://localhost:8080/"
        },
        "id": "9RX3QfStYKHR",
        "outputId": "47ae201e-ed7e-47e4-d487-a135203147f9"
      },
      "execution_count": 41,
      "outputs": [
        {
          "output_type": "execute_result",
          "data": {
            "text/plain": [
              "tensor([[[6, 6, 1, 2, 2],\n",
              "         [0, 1, 3, 7, 7],\n",
              "         [8, 1, 3, 5, 6]],\n",
              "\n",
              "        [[4, 7, 5, 1, 7],\n",
              "         [4, 8, 5, 8, 4],\n",
              "         [7, 0, 2, 6, 1]]])"
            ]
          },
          "metadata": {},
          "execution_count": 41
        }
      ]
    },
    {
      "cell_type": "code",
      "source": [
        "p.sum()"
      ],
      "metadata": {
        "colab": {
          "base_uri": "https://localhost:8080/"
        },
        "id": "AvQgpqxMT3Xw",
        "outputId": "a73fe027-6145-4348-dc1c-3a9c34e00326"
      },
      "execution_count": 42,
      "outputs": [
        {
          "output_type": "execute_result",
          "data": {
            "text/plain": [
              "tensor(127)"
            ]
          },
          "metadata": {},
          "execution_count": 42
        }
      ]
    },
    {
      "cell_type": "code",
      "source": [
        "p.sum(dim = 0)"
      ],
      "metadata": {
        "colab": {
          "base_uri": "https://localhost:8080/"
        },
        "id": "YQaqsIROT8RB",
        "outputId": "69913edd-3302-4f09-b023-7a703da0964a"
      },
      "execution_count": 43,
      "outputs": [
        {
          "output_type": "execute_result",
          "data": {
            "text/plain": [
              "tensor([[10, 13,  6,  3,  9],\n",
              "        [ 4,  9,  8, 15, 11],\n",
              "        [15,  1,  5, 11,  7]])"
            ]
          },
          "metadata": {},
          "execution_count": 43
        }
      ]
    },
    {
      "cell_type": "code",
      "source": [
        "p.sum(dim = 0).shape"
      ],
      "metadata": {
        "colab": {
          "base_uri": "https://localhost:8080/"
        },
        "id": "WZtsuKxjYpf7",
        "outputId": "778d72ab-091d-4a26-e927-3f31419c7cef"
      },
      "execution_count": 44,
      "outputs": [
        {
          "output_type": "execute_result",
          "data": {
            "text/plain": [
              "torch.Size([3, 5])"
            ]
          },
          "metadata": {},
          "execution_count": 44
        }
      ]
    },
    {
      "cell_type": "code",
      "source": [
        "p"
      ],
      "metadata": {
        "colab": {
          "base_uri": "https://localhost:8080/"
        },
        "id": "zlpHyAW0ZpWk",
        "outputId": "476d07c7-32e7-46ad-cc87-706f4f2d70a5"
      },
      "execution_count": 45,
      "outputs": [
        {
          "output_type": "execute_result",
          "data": {
            "text/plain": [
              "tensor([[[6, 6, 1, 2, 2],\n",
              "         [0, 1, 3, 7, 7],\n",
              "         [8, 1, 3, 5, 6]],\n",
              "\n",
              "        [[4, 7, 5, 1, 7],\n",
              "         [4, 8, 5, 8, 4],\n",
              "         [7, 0, 2, 6, 1]]])"
            ]
          },
          "metadata": {},
          "execution_count": 45
        }
      ]
    },
    {
      "cell_type": "code",
      "source": [
        "p.sum(dim = 1)"
      ],
      "metadata": {
        "colab": {
          "base_uri": "https://localhost:8080/"
        },
        "id": "-YxFtzCoT_re",
        "outputId": "93858ef2-a5ca-4803-ccce-7eb70bca85b8"
      },
      "execution_count": 46,
      "outputs": [
        {
          "output_type": "execute_result",
          "data": {
            "text/plain": [
              "tensor([[14,  8,  7, 14, 15],\n",
              "        [15, 15, 12, 15, 12]])"
            ]
          },
          "metadata": {},
          "execution_count": 46
        }
      ]
    },
    {
      "cell_type": "code",
      "source": [
        "p.sum(dim = 1).shape"
      ],
      "metadata": {
        "colab": {
          "base_uri": "https://localhost:8080/"
        },
        "id": "QoT36gQQZWN4",
        "outputId": "ba9f8430-b6e4-4be5-800e-dcac9902e0df"
      },
      "execution_count": 47,
      "outputs": [
        {
          "output_type": "execute_result",
          "data": {
            "text/plain": [
              "torch.Size([2, 5])"
            ]
          },
          "metadata": {},
          "execution_count": 47
        }
      ]
    },
    {
      "cell_type": "code",
      "source": [
        "p"
      ],
      "metadata": {
        "colab": {
          "base_uri": "https://localhost:8080/"
        },
        "id": "DPy7kyhxZr0Y",
        "outputId": "49508969-cd50-4954-ff41-dc0015251a86"
      },
      "execution_count": 48,
      "outputs": [
        {
          "output_type": "execute_result",
          "data": {
            "text/plain": [
              "tensor([[[6, 6, 1, 2, 2],\n",
              "         [0, 1, 3, 7, 7],\n",
              "         [8, 1, 3, 5, 6]],\n",
              "\n",
              "        [[4, 7, 5, 1, 7],\n",
              "         [4, 8, 5, 8, 4],\n",
              "         [7, 0, 2, 6, 1]]])"
            ]
          },
          "metadata": {},
          "execution_count": 48
        }
      ]
    },
    {
      "cell_type": "code",
      "source": [
        "p.sum(dim = 2)"
      ],
      "metadata": {
        "colab": {
          "base_uri": "https://localhost:8080/"
        },
        "id": "0ttYEkpqZZNN",
        "outputId": "64ec9655-7ae9-4b1e-9d08-5639bf935918"
      },
      "execution_count": 49,
      "outputs": [
        {
          "output_type": "execute_result",
          "data": {
            "text/plain": [
              "tensor([[17, 18, 23],\n",
              "        [24, 29, 16]])"
            ]
          },
          "metadata": {},
          "execution_count": 49
        }
      ]
    },
    {
      "cell_type": "code",
      "source": [
        "p.sum(dim = 2).shape"
      ],
      "metadata": {
        "colab": {
          "base_uri": "https://localhost:8080/"
        },
        "id": "Omf4rZc_ZdJn",
        "outputId": "e5c9197b-fb45-4a57-c2e9-0b8563b9f469"
      },
      "execution_count": 50,
      "outputs": [
        {
          "output_type": "execute_result",
          "data": {
            "text/plain": [
              "torch.Size([2, 3])"
            ]
          },
          "metadata": {},
          "execution_count": 50
        }
      ]
    },
    {
      "cell_type": "markdown",
      "source": [
        "## Autograd"
      ],
      "metadata": {
        "id": "mnHGIbBnbMCT"
      }
    },
    {
      "cell_type": "markdown",
      "source": [
        "$$y=3\\sigma(x) + 5$$"
      ],
      "metadata": {
        "id": "7mRemQG9ceEc"
      }
    },
    {
      "cell_type": "markdown",
      "source": [
        "$$\\frac{\\partial y}{ \\partial x} = 3*\\sigma(x)(1-\\sigma(x))$$"
      ],
      "metadata": {
        "id": "tlb518e6dLl7"
      }
    },
    {
      "cell_type": "markdown",
      "source": [
        "$$\\frac{\\partial y}{ \\partial x} = 3*\\sigma(2)(1-\\sigma(2))=3*0.8808*(1-0.8808)=0.3149$$"
      ],
      "metadata": {
        "id": "H8LCmqu2dhkr"
      }
    },
    {
      "cell_type": "code",
      "source": [
        "import torch\n",
        "\n",
        "x = torch.tensor(2.0)\n",
        "x.requires_grad,x.is_leaf"
      ],
      "metadata": {
        "colab": {
          "base_uri": "https://localhost:8080/"
        },
        "id": "dNDBzDSBmGjL",
        "outputId": "1c9d4d95-964b-4036-c89c-0602fc715f0b"
      },
      "execution_count": 51,
      "outputs": [
        {
          "output_type": "execute_result",
          "data": {
            "text/plain": [
              "(False, True)"
            ]
          },
          "metadata": {},
          "execution_count": 51
        }
      ]
    },
    {
      "cell_type": "code",
      "source": [
        "y = 3 * torch.sigmoid(x) + 5\n",
        "y.requires_grad,y.is_leaf"
      ],
      "metadata": {
        "colab": {
          "base_uri": "https://localhost:8080/"
        },
        "id": "aMGUmp1SmW9g",
        "outputId": "c090d97d-8d7e-4711-d154-6f7ada3eebea"
      },
      "execution_count": 52,
      "outputs": [
        {
          "output_type": "execute_result",
          "data": {
            "text/plain": [
              "(False, True)"
            ]
          },
          "metadata": {},
          "execution_count": 52
        }
      ]
    },
    {
      "cell_type": "code",
      "source": [
        "import torch\n",
        "\n",
        "x = torch.tensor(2.0, requires_grad=True)\n",
        "\n",
        "x.requires_grad, x.is_leaf"
      ],
      "metadata": {
        "colab": {
          "base_uri": "https://localhost:8080/"
        },
        "id": "Sov55chWbZxe",
        "outputId": "b5e2ce8c-cec7-4383-e724-d211946f16e9"
      },
      "execution_count": 53,
      "outputs": [
        {
          "output_type": "execute_result",
          "data": {
            "text/plain": [
              "(True, True)"
            ]
          },
          "metadata": {},
          "execution_count": 53
        }
      ]
    },
    {
      "cell_type": "code",
      "source": [
        "y = 3 * torch.sigmoid(x) + 5\n",
        "y"
      ],
      "metadata": {
        "colab": {
          "base_uri": "https://localhost:8080/"
        },
        "id": "SYmNfN4Um3qX",
        "outputId": "e47d95ca-2533-4c49-a2b1-d0bc56d4e54a"
      },
      "execution_count": 54,
      "outputs": [
        {
          "output_type": "execute_result",
          "data": {
            "text/plain": [
              "tensor(7.6424, grad_fn=<AddBackward0>)"
            ]
          },
          "metadata": {},
          "execution_count": 54
        }
      ]
    },
    {
      "cell_type": "code",
      "source": [
        "y.requires_grad,y.is_leaf"
      ],
      "metadata": {
        "colab": {
          "base_uri": "https://localhost:8080/"
        },
        "id": "p23Y9d7OfhGE",
        "outputId": "5335207d-3181-4544-9bb1-ed92999d7512"
      },
      "execution_count": 55,
      "outputs": [
        {
          "output_type": "execute_result",
          "data": {
            "text/plain": [
              "(True, False)"
            ]
          },
          "metadata": {},
          "execution_count": 55
        }
      ]
    },
    {
      "cell_type": "code",
      "source": [
        "print(x.grad_fn)"
      ],
      "metadata": {
        "colab": {
          "base_uri": "https://localhost:8080/"
        },
        "id": "zbdesTDDfhwK",
        "outputId": "3225514a-c1c9-4624-dd96-29049867e939"
      },
      "execution_count": 56,
      "outputs": [
        {
          "output_type": "stream",
          "name": "stdout",
          "text": [
            "None\n"
          ]
        }
      ]
    },
    {
      "cell_type": "code",
      "source": [
        "print(y.grad_fn)"
      ],
      "metadata": {
        "colab": {
          "base_uri": "https://localhost:8080/"
        },
        "id": "Wijukf5qgBMr",
        "outputId": "4dbecd6c-e6da-4642-cba4-7a6de538f56a"
      },
      "execution_count": 57,
      "outputs": [
        {
          "output_type": "stream",
          "name": "stdout",
          "text": [
            "<AddBackward0 object at 0x7f3efdb39300>\n"
          ]
        }
      ]
    },
    {
      "cell_type": "code",
      "source": [
        "print(x.grad)\n",
        "y.backward()\n",
        "print(x.grad) # dy/dx"
      ],
      "metadata": {
        "colab": {
          "base_uri": "https://localhost:8080/"
        },
        "id": "nGYKAyMXfwF1",
        "outputId": "6ff0b510-f027-4105-f760-fb5b5f466368"
      },
      "execution_count": 58,
      "outputs": [
        {
          "output_type": "stream",
          "name": "stdout",
          "text": [
            "None\n",
            "tensor(0.3150)\n"
          ]
        }
      ]
    },
    {
      "cell_type": "code",
      "source": [
        "x.grad.zero_()\n",
        "y = 3 * torch.sigmoid(x) + 5\n",
        "y.backward()\n",
        "x.grad"
      ],
      "metadata": {
        "colab": {
          "base_uri": "https://localhost:8080/"
        },
        "id": "OOQzVLT-oebm",
        "outputId": "6c133f23-dab7-4352-fc35-efd5d3f0dd34"
      },
      "execution_count": 59,
      "outputs": [
        {
          "output_type": "execute_result",
          "data": {
            "text/plain": [
              "tensor(0.3150)"
            ]
          },
          "metadata": {},
          "execution_count": 59
        }
      ]
    },
    {
      "cell_type": "code",
      "source": [
        "a = torch.rand(2, 5, requires_grad=True)\n",
        "a"
      ],
      "metadata": {
        "colab": {
          "base_uri": "https://localhost:8080/"
        },
        "id": "LeWIzeG-iora",
        "outputId": "002f2bd7-91c4-4b0f-b9b0-09c44466044a"
      },
      "execution_count": 60,
      "outputs": [
        {
          "output_type": "execute_result",
          "data": {
            "text/plain": [
              "tensor([[0.4449, 0.6797, 0.8491, 0.1792, 0.3455],\n",
              "        [0.5383, 0.2568, 0.0793, 0.0883, 0.4757]], requires_grad=True)"
            ]
          },
          "metadata": {},
          "execution_count": 60
        }
      ]
    },
    {
      "cell_type": "code",
      "source": [
        "b = a * a + a + 5\n",
        "b"
      ],
      "metadata": {
        "colab": {
          "base_uri": "https://localhost:8080/"
        },
        "id": "y8gfgbSpG9aT",
        "outputId": "151d7e91-6fb8-456e-b80a-10b554943c20"
      },
      "execution_count": 61,
      "outputs": [
        {
          "output_type": "execute_result",
          "data": {
            "text/plain": [
              "tensor([[5.6429, 6.1416, 6.5700, 5.2113, 5.4650],\n",
              "        [5.8281, 5.3228, 5.0856, 5.0961, 5.7021]], grad_fn=<AddBackward0>)"
            ]
          },
          "metadata": {},
          "execution_count": 61
        }
      ]
    },
    {
      "cell_type": "code",
      "source": [
        "c = b.mean()\n",
        "c"
      ],
      "metadata": {
        "colab": {
          "base_uri": "https://localhost:8080/"
        },
        "id": "NkYnk5Z4H2-Q",
        "outputId": "a45f25da-0a2a-4681-a838-bb0510a965f2"
      },
      "execution_count": 62,
      "outputs": [
        {
          "output_type": "execute_result",
          "data": {
            "text/plain": [
              "tensor(5.6065, grad_fn=<MeanBackward0>)"
            ]
          },
          "metadata": {},
          "execution_count": 62
        }
      ]
    },
    {
      "cell_type": "code",
      "source": [
        "a.is_leaf,b.is_leaf,c.is_leaf"
      ],
      "metadata": {
        "colab": {
          "base_uri": "https://localhost:8080/"
        },
        "id": "gTlqGFNSgkSe",
        "outputId": "4997d097-bb45-4818-e3c2-b9340b7b5562"
      },
      "execution_count": 63,
      "outputs": [
        {
          "output_type": "execute_result",
          "data": {
            "text/plain": [
              "(True, False, False)"
            ]
          },
          "metadata": {},
          "execution_count": 63
        }
      ]
    },
    {
      "cell_type": "code",
      "source": [
        "b.retain_grad() # to retain gradient for non-leaf nodes"
      ],
      "metadata": {
        "id": "VLeKGNAwgyFn"
      },
      "execution_count": 64,
      "outputs": []
    },
    {
      "cell_type": "code",
      "source": [
        "print(a.grad) # Before gradient computation\n",
        "c.backward()\n",
        "print(a.grad) # After gradient computation #dc/da"
      ],
      "metadata": {
        "colab": {
          "base_uri": "https://localhost:8080/"
        },
        "id": "2UnE9EnLIO2W",
        "outputId": "fbf954a4-0415-4455-df2e-012ad1e2c74c"
      },
      "execution_count": 65,
      "outputs": [
        {
          "output_type": "stream",
          "name": "stdout",
          "text": [
            "None\n",
            "tensor([[0.1890, 0.2359, 0.2698, 0.1358, 0.1691],\n",
            "        [0.2077, 0.1514, 0.1159, 0.1177, 0.1951]])\n"
          ]
        }
      ]
    },
    {
      "cell_type": "code",
      "source": [
        "b.grad"
      ],
      "metadata": {
        "colab": {
          "base_uri": "https://localhost:8080/"
        },
        "id": "BOt8Y6uGg_xk",
        "outputId": "8bc857dd-8585-4e4c-a061-b1badf272127"
      },
      "execution_count": 66,
      "outputs": [
        {
          "output_type": "execute_result",
          "data": {
            "text/plain": [
              "tensor([[0.1000, 0.1000, 0.1000, 0.1000, 0.1000],\n",
              "        [0.1000, 0.1000, 0.1000, 0.1000, 0.1000]])"
            ]
          },
          "metadata": {},
          "execution_count": 66
        }
      ]
    },
    {
      "cell_type": "code",
      "source": [
        "c.grad # not used retain_grad"
      ],
      "metadata": {
        "colab": {
          "base_uri": "https://localhost:8080/"
        },
        "id": "Zr-4izvEdkTf",
        "outputId": "5eece904-66ae-47b6-b5fc-74980b94f9bb"
      },
      "execution_count": 67,
      "outputs": [
        {
          "output_type": "stream",
          "name": "stderr",
          "text": [
            "<ipython-input-67-67af56c47ba0>:1: UserWarning: The .grad attribute of a Tensor that is not a leaf Tensor is being accessed. Its .grad attribute won't be populated during autograd.backward(). If you indeed want the .grad field to be populated for a non-leaf Tensor, use .retain_grad() on the non-leaf Tensor. If you access the non-leaf Tensor by mistake, make sure you access the leaf Tensor instead. See github.com/pytorch/pytorch/pull/30531 for more informations. (Triggered internally at /pytorch/build/aten/src/ATen/core/TensorBody.h:489.)\n",
            "  c.grad\n"
          ]
        }
      ]
    },
    {
      "cell_type": "markdown",
      "source": [
        "### Gradient Descent"
      ],
      "metadata": {
        "id": "MQP_rugHjtcG"
      }
    },
    {
      "cell_type": "code",
      "source": [
        "# Generate train data # y = 5 * x + 3\n",
        "x = torch.linspace(-1.0,1.0,15).reshape(15,1)\n",
        "w = torch.tensor([5])\n",
        "b = torch.tensor([3])\n",
        "y = w * x + b"
      ],
      "metadata": {
        "id": "B1itqZ9ylehv"
      },
      "execution_count": 78,
      "outputs": []
    },
    {
      "cell_type": "code",
      "source": [
        "# Parameter initialization\n",
        "w = torch.randn(size=(1,1), requires_grad=True)\n",
        "b = torch.randn(size=(1,1), requires_grad=True)\n",
        "\n",
        "def forward(x):\n",
        "    return w * x + b\n",
        "\n",
        "def loss(y, y_pred):\n",
        "    return ((y_pred - y)**2).mean()\n",
        "\n",
        "print('w:',w)\n",
        "print('b:',b)"
      ],
      "metadata": {
        "colab": {
          "base_uri": "https://localhost:8080/"
        },
        "id": "XoQ5l1cqjrhb",
        "outputId": "7541398c-07c4-44f7-b0f0-a738bfe65e8c"
      },
      "execution_count": 79,
      "outputs": [
        {
          "output_type": "stream",
          "name": "stdout",
          "text": [
            "w: tensor([[0.6971]], requires_grad=True)\n",
            "b: tensor([[-0.5632]], requires_grad=True)\n"
          ]
        }
      ]
    },
    {
      "cell_type": "code",
      "source": [
        "# Define hyperparameters\n",
        "learning_rate = 0.03\n",
        "num_epochs = 180\n",
        "\n",
        "# Train the model\n",
        "for epoch in range(num_epochs):\n",
        "    y_pred = forward(x)\n",
        "\n",
        "    l = loss(y, y_pred)\n",
        "\n",
        "    l.backward()\n",
        "\n",
        "    with torch.no_grad():\n",
        "      w -= learning_rate * w.grad\n",
        "      b -= learning_rate * b.grad\n",
        "\n",
        "      # Detach to prevent tracking history\n",
        "      w = w.detach().requires_grad_(True)\n",
        "      b = b.detach().requires_grad_(True)\n",
        "\n",
        "      #w.grad.zero_()\n",
        "      #b.grad.zero_()\n",
        "\n",
        "    if (epoch+1) % 10 == 0:\n",
        "        print(f'epoch {epoch+1}: w = {w.item():.3f}, b = {b.item():.3f},loss = {l.item():.3f}')"
      ],
      "metadata": {
        "colab": {
          "base_uri": "https://localhost:8080/"
        },
        "id": "hdKOO88oj3Ir",
        "outputId": "3e44da3e-ecb3-40c8-d0e1-f9959220c67a"
      },
      "execution_count": 81,
      "outputs": [
        {
          "output_type": "stream",
          "name": "stdout",
          "text": [
            "epoch 10: w = 4.947, b = 3.000,loss = 0.001\n",
            "epoch 20: w = 4.958, b = 3.000,loss = 0.001\n",
            "epoch 30: w = 4.967, b = 3.000,loss = 0.000\n",
            "epoch 40: w = 4.973, b = 3.000,loss = 0.000\n",
            "epoch 50: w = 4.979, b = 3.000,loss = 0.000\n",
            "epoch 60: w = 4.983, b = 3.000,loss = 0.000\n",
            "epoch 70: w = 4.987, b = 3.000,loss = 0.000\n",
            "epoch 80: w = 4.989, b = 3.000,loss = 0.000\n",
            "epoch 90: w = 4.992, b = 3.000,loss = 0.000\n",
            "epoch 100: w = 4.993, b = 3.000,loss = 0.000\n",
            "epoch 110: w = 4.995, b = 3.000,loss = 0.000\n",
            "epoch 120: w = 4.996, b = 3.000,loss = 0.000\n",
            "epoch 130: w = 4.997, b = 3.000,loss = 0.000\n",
            "epoch 140: w = 4.997, b = 3.000,loss = 0.000\n",
            "epoch 150: w = 4.998, b = 3.000,loss = 0.000\n",
            "epoch 160: w = 4.998, b = 3.000,loss = 0.000\n",
            "epoch 170: w = 4.999, b = 3.000,loss = 0.000\n",
            "epoch 180: w = 4.999, b = 3.000,loss = 0.000\n"
          ]
        }
      ]
    },
    {
      "cell_type": "markdown",
      "source": [
        "## Neural Networks"
      ],
      "metadata": {
        "id": "xUn8YynVydjP"
      }
    },
    {
      "cell_type": "code",
      "source": [
        "import torch\n",
        "import torch.nn as nn\n",
        "#import torch.nn.functional as F\n",
        "import torch.optim as optim\n",
        "\n",
        "from torchvision import datasets,transforms"
      ],
      "metadata": {
        "id": "mgCSzNOHydJy"
      },
      "execution_count": 2,
      "outputs": []
    },
    {
      "cell_type": "code",
      "source": [
        "device = torch.device('cuda' if torch.cuda.is_available() else 'cpu')"
      ],
      "metadata": {
        "id": "ik2W138nEb9X"
      },
      "execution_count": 3,
      "outputs": []
    },
    {
      "cell_type": "code",
      "source": [
        "device#print(device)"
      ],
      "metadata": {
        "colab": {
          "base_uri": "https://localhost:8080/"
        },
        "id": "zJURt7M5HAi6",
        "outputId": "b977b8fc-6908-4202-ce77-322d6abbcff9"
      },
      "execution_count": 6,
      "outputs": [
        {
          "output_type": "execute_result",
          "data": {
            "text/plain": [
              "device(type='cpu')"
            ]
          },
          "metadata": {},
          "execution_count": 6
        }
      ]
    },
    {
      "cell_type": "code",
      "source": [
        "print(dir(datasets))"
      ],
      "metadata": {
        "colab": {
          "base_uri": "https://localhost:8080/"
        },
        "id": "Gg4ZLyenHkGz",
        "outputId": "1a40a220-1824-4a76-eb4e-d845f2455a2c"
      },
      "execution_count": 4,
      "outputs": [
        {
          "output_type": "stream",
          "name": "stdout",
          "text": [
            "['CIFAR10', 'CIFAR100', 'CLEVRClassification', 'CREStereo', 'Caltech101', 'Caltech256', 'CarlaStereo', 'CelebA', 'Cityscapes', 'CocoCaptions', 'CocoDetection', 'Country211', 'DTD', 'DatasetFolder', 'EMNIST', 'ETH3DStereo', 'EuroSAT', 'FER2013', 'FGVCAircraft', 'FakeData', 'FallingThingsStereo', 'FashionMNIST', 'Flickr30k', 'Flickr8k', 'Flowers102', 'FlyingChairs', 'FlyingThings3D', 'Food101', 'GTSRB', 'HD1K', 'HMDB51', 'INaturalist', 'ImageFolder', 'ImageNet', 'Imagenette', 'InStereo2k', 'KMNIST', 'Kinetics', 'Kitti', 'Kitti2012Stereo', 'Kitti2015Stereo', 'KittiFlow', 'LFWPairs', 'LFWPeople', 'LSUN', 'LSUNClass', 'MNIST', 'Middlebury2014Stereo', 'MovingMNIST', 'Omniglot', 'OxfordIIITPet', 'PCAM', 'PhotoTour', 'Places365', 'QMNIST', 'RenderedSST2', 'SBDataset', 'SBU', 'SEMEION', 'STL10', 'SUN397', 'SVHN', 'SceneFlowStereo', 'Sintel', 'SintelStereo', 'StanfordCars', 'UCF101', 'USPS', 'VOCDetection', 'VOCSegmentation', 'VisionDataset', 'WIDERFace', '__all__', '__builtins__', '__cached__', '__doc__', '__file__', '__getattr__', '__loader__', '__name__', '__package__', '__path__', '__spec__', '_optical_flow', '_stereo_matching', 'caltech', 'celeba', 'cifar', 'cityscapes', 'clevr', 'coco', 'country211', 'dtd', 'eurosat', 'fakedata', 'fer2013', 'fgvc_aircraft', 'flickr', 'flowers102', 'folder', 'food101', 'gtsrb', 'hmdb51', 'imagenet', 'imagenette', 'inaturalist', 'kinetics', 'kitti', 'lfw', 'lsun', 'mnist', 'moving_mnist', 'omniglot', 'oxford_iiit_pet', 'pcam', 'phototour', 'places365', 'rendered_sst2', 'sbd', 'sbu', 'semeion', 'stanford_cars', 'stl10', 'sun397', 'svhn', 'ucf101', 'usps', 'utils', 'video_utils', 'vision', 'voc', 'widerface']\n"
          ]
        }
      ]
    },
    {
      "cell_type": "code",
      "source": [
        "## Hyper-parameters\n",
        "hidden_size = 400\n",
        "num_epochs = 8\n",
        "batch_size = 32\n",
        "learning_rate = 0.0001"
      ],
      "metadata": {
        "id": "0MmpY18FxIqm"
      },
      "execution_count": 7,
      "outputs": []
    },
    {
      "cell_type": "code",
      "source": [
        "## Load the MNIST dataset\n",
        "train_dataset = datasets.MNIST(root='./data', train=True, download=True, transform=transforms.ToTensor())\n",
        "test_dataset = datasets.MNIST(root='./data', train=False, download=True, transform=transforms.ToTensor())"
      ],
      "metadata": {
        "id": "VetrSviG0V4H",
        "colab": {
          "base_uri": "https://localhost:8080/"
        },
        "outputId": "dfaeedf6-d8e9-4db5-d4fd-b10e0ebd4551"
      },
      "execution_count": 8,
      "outputs": [
        {
          "output_type": "stream",
          "name": "stderr",
          "text": [
            "100%|██████████| 9.91M/9.91M [00:01<00:00, 6.05MB/s]\n",
            "100%|██████████| 28.9k/28.9k [00:00<00:00, 159kB/s]\n",
            "100%|██████████| 1.65M/1.65M [00:01<00:00, 1.30MB/s]\n",
            "100%|██████████| 4.54k/4.54k [00:00<00:00, 5.81MB/s]\n"
          ]
        }
      ]
    },
    {
      "cell_type": "code",
      "source": [
        "## Training Data\n",
        "print(train_dataset.classes)\n",
        "print(train_dataset.data.shape)\n",
        "print(train_dataset.targets.shape)"
      ],
      "metadata": {
        "colab": {
          "base_uri": "https://localhost:8080/"
        },
        "id": "c0h-djeY1To4",
        "outputId": "d462bb7c-3dde-481f-f830-cb8c36d27f2b"
      },
      "execution_count": 9,
      "outputs": [
        {
          "output_type": "stream",
          "name": "stdout",
          "text": [
            "['0 - zero', '1 - one', '2 - two', '3 - three', '4 - four', '5 - five', '6 - six', '7 - seven', '8 - eight', '9 - nine']\n",
            "torch.Size([60000, 28, 28])\n",
            "torch.Size([60000])\n"
          ]
        }
      ]
    },
    {
      "cell_type": "code",
      "source": [
        "## Test Data\n",
        "print(test_dataset.classes)\n",
        "print(test_dataset.data.shape)\n",
        "print(test_dataset.targets.shape)"
      ],
      "metadata": {
        "colab": {
          "base_uri": "https://localhost:8080/"
        },
        "id": "tjDag3Hp2jB7",
        "outputId": "7e239350-939a-4593-d9b3-13bfdfca9a39"
      },
      "execution_count": 10,
      "outputs": [
        {
          "output_type": "stream",
          "name": "stdout",
          "text": [
            "['0 - zero', '1 - one', '2 - two', '3 - three', '4 - four', '5 - five', '6 - six', '7 - seven', '8 - eight', '9 - nine']\n",
            "torch.Size([10000, 28, 28])\n",
            "torch.Size([10000])\n"
          ]
        }
      ]
    },
    {
      "cell_type": "code",
      "source": [
        "in_features = 784 # Input size - 28 x 28\n",
        "out_features = 10 # no. of classes"
      ],
      "metadata": {
        "id": "taemlQ95FeR2"
      },
      "execution_count": 11,
      "outputs": []
    },
    {
      "cell_type": "code",
      "source": [
        "train_dataloader = torch.utils.data.DataLoader(dataset=train_dataset, batch_size = batch_size, shuffle=True)\n",
        "\n",
        "test_dataloader = torch.utils.data.DataLoader(dataset=test_dataset, batch_size = batch_size, shuffle=False)"
      ],
      "metadata": {
        "id": "PjwnlYS3x9mf"
      },
      "execution_count": 12,
      "outputs": []
    },
    {
      "cell_type": "code",
      "source": [
        "import matplotlib.pyplot as plt\n",
        "\n",
        "data = iter(train_dataloader)\n",
        "imgs,labels = next(data)\n",
        "print(imgs.shape)\n",
        "print(labels.shape)\n",
        "\n",
        "for i in range(5):\n",
        "    plt.subplot(1,5,i+1)\n",
        "    plt.imshow(imgs[i][0], cmap='gray')\n",
        "    plt.xlabel(f'Label = {labels[i].item()}')\n",
        "plt.show()"
      ],
      "metadata": {
        "colab": {
          "base_uri": "https://localhost:8080/",
          "height": 204
        },
        "id": "jk5wE3gB28yO",
        "outputId": "7c658c79-86c8-4065-da82-3d9b93c83964"
      },
      "execution_count": 13,
      "outputs": [
        {
          "output_type": "stream",
          "name": "stdout",
          "text": [
            "torch.Size([32, 1, 28, 28])\n",
            "torch.Size([32])\n"
          ]
        },
        {
          "output_type": "display_data",
          "data": {
            "text/plain": [
              "<Figure size 640x480 with 5 Axes>"
            ],
            "image/png": "[encoded data removed]"
          },
          "metadata": {}
        }
      ]
    },
    {
      "cell_type": "code",
      "source": [
        "class BasicNeuralNet(nn.Module):\n",
        "    def __init__(self,hidden_size):\n",
        "        super(BasicNeuralNet, self).__init__()\n",
        "        self.hidden_size = hidden_size\n",
        "        self.layer1 = nn.Linear(in_features, self.hidden_size)\n",
        "        self.layer2 = nn.Linear(self.hidden_size, out_features)\n",
        "\n",
        "    def forward(self, x):\n",
        "        out = self.layer1(x)\n",
        "        out = torch.relu(out)\n",
        "        out = self.layer2(out)\n",
        "        return out\n",
        "\n",
        "model = BasicNeuralNet(hidden_size).to(device)"
      ],
      "metadata": {
        "id": "qw7zfOSI877B"
      },
      "execution_count": 14,
      "outputs": []
    },
    {
      "cell_type": "code",
      "source": [
        "w1,b1,w2,b2 = list(model.parameters())"
      ],
      "metadata": {
        "id": "ysdP1TaHGZgW"
      },
      "execution_count": 15,
      "outputs": []
    },
    {
      "cell_type": "code",
      "source": [
        "# First linear layer\n",
        "print(w1,b1)\n",
        "print(w1.shape)\n",
        "print(b1.shape)"
      ],
      "metadata": {
        "colab": {
          "base_uri": "https://localhost:8080/"
        },
        "id": "Wg0j1WgdSHTz",
        "outputId": "84f5009b-bfd5-4e64-cea9-f46b55d23ce1"
      },
      "execution_count": 16,
      "outputs": [
        {
          "output_type": "stream",
          "name": "stdout",
          "text": [
            "Parameter containing:\n",
            "tensor([[-9.3885e-04, -1.5698e-02,  2.2959e-02,  ..., -2.4709e-02,\n",
            "         -1.6017e-03, -1.7814e-02],\n",
            "        [-2.5026e-02,  2.8800e-02, -2.9392e-03,  ...,  2.0720e-03,\n",
            "         -9.0010e-03, -6.2765e-03],\n",
            "        [ 1.2536e-03, -7.2100e-05, -7.6130e-04,  ..., -1.6659e-03,\n",
            "         -2.9608e-02, -3.5564e-02],\n",
            "        ...,\n",
            "        [-2.5483e-02, -3.4636e-02, -2.1238e-02,  ..., -3.5621e-02,\n",
            "         -1.9214e-03,  2.0708e-02],\n",
            "        [-2.4099e-02, -1.3985e-03,  2.1661e-02,  ...,  2.4371e-02,\n",
            "          2.5954e-02,  5.1451e-03],\n",
            "        [-2.6919e-02,  2.1136e-02, -3.4622e-02,  ..., -5.7984e-03,\n",
            "         -1.5013e-02, -3.5621e-02]], requires_grad=True) Parameter containing:\n",
            "tensor([-0.0044, -0.0290,  0.0255, -0.0059, -0.0146,  0.0058, -0.0259,  0.0268,\n",
            "         0.0185,  0.0240, -0.0195,  0.0265,  0.0316, -0.0194,  0.0354,  0.0119,\n",
            "        -0.0248,  0.0159, -0.0110, -0.0329, -0.0234, -0.0107,  0.0326, -0.0303,\n",
            "        -0.0233, -0.0162,  0.0259,  0.0166,  0.0350, -0.0333, -0.0086,  0.0060,\n",
            "         0.0031,  0.0215,  0.0259, -0.0169, -0.0320, -0.0313, -0.0241, -0.0173,\n",
            "         0.0292, -0.0114, -0.0181, -0.0356, -0.0067, -0.0240,  0.0172,  0.0298,\n",
            "        -0.0086,  0.0294, -0.0293,  0.0092,  0.0049, -0.0225,  0.0075,  0.0026,\n",
            "         0.0181,  0.0280,  0.0320, -0.0006,  0.0208,  0.0263,  0.0040, -0.0201,\n",
            "         0.0058,  0.0058, -0.0286,  0.0097, -0.0296, -0.0180, -0.0329,  0.0331,\n",
            "         0.0046, -0.0339,  0.0230,  0.0015,  0.0298, -0.0180,  0.0170,  0.0103,\n",
            "         0.0297, -0.0146, -0.0079,  0.0274,  0.0247,  0.0004,  0.0203,  0.0356,\n",
            "         0.0029, -0.0048, -0.0272,  0.0128,  0.0280,  0.0146, -0.0257, -0.0327,\n",
            "        -0.0307,  0.0218,  0.0212,  0.0171, -0.0171, -0.0095,  0.0004,  0.0267,\n",
            "        -0.0171,  0.0104,  0.0071,  0.0327,  0.0264, -0.0353,  0.0277, -0.0241,\n",
            "         0.0058, -0.0048, -0.0128,  0.0028, -0.0130, -0.0296,  0.0258, -0.0032,\n",
            "         0.0198,  0.0091,  0.0040, -0.0286, -0.0223, -0.0046,  0.0339,  0.0219,\n",
            "         0.0329, -0.0211,  0.0096,  0.0095, -0.0276,  0.0059,  0.0185,  0.0066,\n",
            "         0.0029,  0.0334, -0.0256,  0.0027,  0.0253,  0.0265, -0.0092, -0.0280,\n",
            "         0.0264,  0.0144, -0.0168, -0.0118,  0.0116,  0.0297, -0.0193,  0.0238,\n",
            "         0.0317, -0.0066, -0.0267, -0.0032,  0.0194,  0.0255,  0.0235, -0.0071,\n",
            "        -0.0234,  0.0084,  0.0261,  0.0196, -0.0159, -0.0116, -0.0076, -0.0303,\n",
            "        -0.0028, -0.0329, -0.0115,  0.0202, -0.0161,  0.0282,  0.0012,  0.0092,\n",
            "        -0.0238, -0.0072,  0.0175,  0.0010, -0.0069,  0.0211, -0.0151,  0.0123,\n",
            "        -0.0041, -0.0040,  0.0204, -0.0078,  0.0139,  0.0323,  0.0170, -0.0019,\n",
            "         0.0058, -0.0205,  0.0180,  0.0060, -0.0144,  0.0026, -0.0347, -0.0209,\n",
            "         0.0052,  0.0016,  0.0333,  0.0048, -0.0027, -0.0008,  0.0176,  0.0036,\n",
            "        -0.0050,  0.0204,  0.0276, -0.0141,  0.0210, -0.0126,  0.0080,  0.0209,\n",
            "        -0.0257, -0.0130, -0.0168,  0.0079, -0.0302, -0.0005, -0.0038, -0.0065,\n",
            "         0.0282, -0.0034,  0.0283,  0.0161, -0.0309, -0.0008,  0.0239,  0.0083,\n",
            "        -0.0323,  0.0177, -0.0053,  0.0162,  0.0194, -0.0278,  0.0029, -0.0336,\n",
            "         0.0204,  0.0020,  0.0188, -0.0069,  0.0340, -0.0248,  0.0333,  0.0298,\n",
            "         0.0153, -0.0268, -0.0354,  0.0133,  0.0243,  0.0018, -0.0128, -0.0088,\n",
            "         0.0177,  0.0181, -0.0028,  0.0052,  0.0148, -0.0154, -0.0093,  0.0170,\n",
            "         0.0176, -0.0164,  0.0142,  0.0311, -0.0274,  0.0289, -0.0337,  0.0280,\n",
            "         0.0340, -0.0279,  0.0086,  0.0322, -0.0278,  0.0291,  0.0066,  0.0139,\n",
            "         0.0089, -0.0213,  0.0256, -0.0029, -0.0043, -0.0257, -0.0133,  0.0286,\n",
            "        -0.0086, -0.0293, -0.0036,  0.0193,  0.0288, -0.0267,  0.0076,  0.0345,\n",
            "         0.0268, -0.0317,  0.0164,  0.0053, -0.0131,  0.0113, -0.0203, -0.0258,\n",
            "         0.0234,  0.0156, -0.0210,  0.0281,  0.0084,  0.0086, -0.0340,  0.0200,\n",
            "        -0.0103, -0.0187,  0.0146,  0.0050, -0.0092,  0.0143, -0.0292,  0.0283,\n",
            "        -0.0260, -0.0034, -0.0245,  0.0263, -0.0334,  0.0225, -0.0277,  0.0111,\n",
            "        -0.0156,  0.0318,  0.0064, -0.0271, -0.0164,  0.0151,  0.0313, -0.0102,\n",
            "         0.0320,  0.0040, -0.0109,  0.0347,  0.0014,  0.0045,  0.0354,  0.0300,\n",
            "        -0.0034,  0.0057,  0.0057, -0.0083, -0.0023, -0.0349,  0.0203,  0.0015,\n",
            "         0.0054, -0.0068,  0.0030,  0.0016, -0.0312,  0.0092,  0.0162, -0.0175,\n",
            "         0.0259,  0.0014, -0.0245, -0.0049, -0.0088,  0.0032, -0.0197, -0.0317,\n",
            "         0.0095, -0.0135, -0.0347,  0.0008, -0.0331, -0.0112, -0.0160,  0.0120,\n",
            "         0.0097, -0.0011,  0.0269, -0.0251, -0.0349,  0.0167,  0.0229,  0.0026,\n",
            "        -0.0318,  0.0134, -0.0225,  0.0274, -0.0253, -0.0285, -0.0343,  0.0073,\n",
            "        -0.0297,  0.0123, -0.0058, -0.0126, -0.0069,  0.0116, -0.0328, -0.0049],\n",
            "       requires_grad=True)\n",
            "torch.Size([400, 784])\n",
            "torch.Size([400])\n"
          ]
        }
      ]
    },
    {
      "cell_type": "code",
      "source": [
        "# Second linear layer\n",
        "print(w2,b2)\n",
        "print(w2.shape)\n",
        "print(b2.shape)"
      ],
      "metadata": {
        "colab": {
          "base_uri": "https://localhost:8080/"
        },
        "id": "TKgt0AodSVDO",
        "outputId": "fbe3cf33-65ed-4156-9c81-79aab1e7f7f1"
      },
      "execution_count": 17,
      "outputs": [
        {
          "output_type": "stream",
          "name": "stdout",
          "text": [
            "Parameter containing:\n",
            "tensor([[ 0.0090, -0.0185, -0.0352,  ...,  0.0061, -0.0197, -0.0022],\n",
            "        [ 0.0410,  0.0407,  0.0108,  ..., -0.0130,  0.0455,  0.0487],\n",
            "        [ 0.0331, -0.0361,  0.0165,  ...,  0.0409,  0.0405,  0.0220],\n",
            "        ...,\n",
            "        [-0.0026, -0.0040, -0.0276,  ..., -0.0034,  0.0323, -0.0112],\n",
            "        [-0.0197, -0.0039,  0.0035,  ...,  0.0303,  0.0307, -0.0306],\n",
            "        [-0.0283, -0.0253,  0.0083,  ..., -0.0158,  0.0493,  0.0189]],\n",
            "       requires_grad=True) Parameter containing:\n",
            "tensor([-0.0479, -0.0451,  0.0079, -0.0307, -0.0017,  0.0074,  0.0024,  0.0218,\n",
            "         0.0288,  0.0230], requires_grad=True)\n",
            "torch.Size([10, 400])\n",
            "torch.Size([10])\n"
          ]
        }
      ]
    },
    {
      "cell_type": "code",
      "source": [
        "criterion = nn.CrossEntropyLoss() # Loss\n",
        "optimizer = optim.Adam(model.parameters(), lr=learning_rate)"
      ],
      "metadata": {
        "id": "_0kc0IAEEo31"
      },
      "execution_count": 18,
      "outputs": []
    },
    {
      "cell_type": "code",
      "source": [
        "# Training\n",
        "total_steps = len(train_dataloader)\n",
        "for epoch in range(num_epochs):\n",
        "    for i, (images, labels) in enumerate(train_dataloader):\n",
        "        images = images.reshape(-1, 28*28).to(device)\n",
        "        labels = labels.to(device)\n",
        "\n",
        "        # Forward pass\n",
        "        outputs = model(images)\n",
        "\n",
        "        loss = criterion(outputs, labels)\n",
        "\n",
        "        # Backpropagation\n",
        "        loss.backward()\n",
        "\n",
        "        optimizer.step() # Parameter update\n",
        "        optimizer.zero_grad()\n",
        "\n",
        "        if i % 300 == 0:\n",
        "            print (f'Epoch {epoch}, Step {i}/{total_steps}, Loss: {loss.item():.3f}')"
      ],
      "metadata": {
        "colab": {
          "base_uri": "https://localhost:8080/"
        },
        "id": "Cs7gzjxVEs8x",
        "outputId": "fb5a8b97-119b-4079-b12d-dd3c06b5bd79"
      },
      "execution_count": 19,
      "outputs": [
        {
          "output_type": "stream",
          "name": "stdout",
          "text": [
            "Epoch 0, Step 0/1875, Loss: 2.306\n",
            "Epoch 0, Step 300/1875, Loss: 0.635\n",
            "Epoch 0, Step 600/1875, Loss: 0.344\n",
            "Epoch 0, Step 900/1875, Loss: 0.468\n",
            "Epoch 0, Step 1200/1875, Loss: 0.266\n",
            "Epoch 0, Step 1500/1875, Loss: 0.179\n",
            "Epoch 0, Step 1800/1875, Loss: 0.737\n",
            "Epoch 1, Step 0/1875, Loss: 0.258\n",
            "Epoch 1, Step 300/1875, Loss: 0.194\n",
            "Epoch 1, Step 600/1875, Loss: 0.463\n",
            "Epoch 1, Step 900/1875, Loss: 0.136\n",
            "Epoch 1, Step 1200/1875, Loss: 0.224\n",
            "Epoch 1, Step 1500/1875, Loss: 0.304\n",
            "Epoch 1, Step 1800/1875, Loss: 0.349\n",
            "Epoch 2, Step 0/1875, Loss: 0.098\n",
            "Epoch 2, Step 300/1875, Loss: 0.145\n",
            "Epoch 2, Step 600/1875, Loss: 0.111\n",
            "Epoch 2, Step 900/1875, Loss: 0.382\n",
            "Epoch 2, Step 1200/1875, Loss: 0.116\n",
            "Epoch 2, Step 1500/1875, Loss: 0.109\n",
            "Epoch 2, Step 1800/1875, Loss: 0.046\n",
            "Epoch 3, Step 0/1875, Loss: 0.339\n",
            "Epoch 3, Step 300/1875, Loss: 0.268\n",
            "Epoch 3, Step 600/1875, Loss: 0.139\n",
            "Epoch 3, Step 900/1875, Loss: 0.139\n",
            "Epoch 3, Step 1200/1875, Loss: 0.121\n",
            "Epoch 3, Step 1500/1875, Loss: 0.126\n",
            "Epoch 3, Step 1800/1875, Loss: 0.155\n",
            "Epoch 4, Step 0/1875, Loss: 0.153\n",
            "Epoch 4, Step 300/1875, Loss: 0.170\n",
            "Epoch 4, Step 600/1875, Loss: 0.109\n",
            "Epoch 4, Step 900/1875, Loss: 0.161\n",
            "Epoch 4, Step 1200/1875, Loss: 0.043\n",
            "Epoch 4, Step 1500/1875, Loss: 0.132\n",
            "Epoch 4, Step 1800/1875, Loss: 0.118\n",
            "Epoch 5, Step 0/1875, Loss: 0.207\n",
            "Epoch 5, Step 300/1875, Loss: 0.075\n",
            "Epoch 5, Step 600/1875, Loss: 0.153\n",
            "Epoch 5, Step 900/1875, Loss: 0.066\n",
            "Epoch 5, Step 1200/1875, Loss: 0.073\n",
            "Epoch 5, Step 1500/1875, Loss: 0.136\n",
            "Epoch 5, Step 1800/1875, Loss: 0.095\n",
            "Epoch 6, Step 0/1875, Loss: 0.131\n",
            "Epoch 6, Step 300/1875, Loss: 0.055\n",
            "Epoch 6, Step 600/1875, Loss: 0.199\n",
            "Epoch 6, Step 900/1875, Loss: 0.154\n",
            "Epoch 6, Step 1200/1875, Loss: 0.036\n",
            "Epoch 6, Step 1500/1875, Loss: 0.060\n",
            "Epoch 6, Step 1800/1875, Loss: 0.132\n",
            "Epoch 7, Step 0/1875, Loss: 0.028\n",
            "Epoch 7, Step 300/1875, Loss: 0.055\n",
            "Epoch 7, Step 600/1875, Loss: 0.076\n",
            "Epoch 7, Step 900/1875, Loss: 0.123\n",
            "Epoch 7, Step 1200/1875, Loss: 0.083\n",
            "Epoch 7, Step 1500/1875, Loss: 0.084\n",
            "Epoch 7, Step 1800/1875, Loss: 0.050\n"
          ]
        }
      ]
    },
    {
      "cell_type": "code",
      "source": [
        "# Test the model\n",
        "with torch.no_grad():\n",
        "    correct = 0\n",
        "    num_samples = len(test_dataloader.dataset)\n",
        "\n",
        "    for imgs, labels in test_dataloader:\n",
        "        imgs = imgs.reshape(-1, 28*28).to(device)\n",
        "        labels = labels.to(device)\n",
        "\n",
        "        outputs = model(imgs)\n",
        "\n",
        "        _, predicted = torch.max(outputs, 1)\n",
        "        correct += (predicted == labels).sum().item()\n",
        "\n",
        "    acc = correct / num_samples\n",
        "    print(f'Accuracy: {100*acc} %')"
      ],
      "metadata": {
        "colab": {
          "base_uri": "https://localhost:8080/"
        },
        "id": "Hek2mZrxE8eo",
        "outputId": "93d1b042-081e-43d9-d5cf-285df520f8d2"
      },
      "execution_count": 20,
      "outputs": [
        {
          "output_type": "stream",
          "name": "stdout",
          "text": [
            "Accuracy: 96.89999999999999 %\n"
          ]
        }
      ]
    },
    {
      "cell_type": "code",
      "source": [],
      "metadata": {
        "id": "Q5HNduv1Z130"
      },
      "execution_count": null,
      "outputs": []
    }
  ]
}